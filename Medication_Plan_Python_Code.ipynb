{
  "nbformat": 4,
  "nbformat_minor": 0,
  "metadata": {
    "colab": {
      "provenance": []
    },
    "kernelspec": {
      "name": "python3",
      "display_name": "Python 3"
    },
    "language_info": {
      "name": "python"
    }
  },
  "cells": [
    {
      "cell_type": "code",
      "source": [
        "%%capture\n",
        "import sys\n",
        "import os\n",
        "\n",
        "if 'google.colab' in sys.modules:\n",
        "    !pip install idaes-pse --pre\n",
        "    !idaes get-extensions --to ./bin\n",
        "    os.environ['PATH'] += ':bin'\n",
        "\n",
        "from pyomo.environ import *\n"
      ],
      "metadata": {
        "id": "WIqV8G9gg6Rh"
      },
      "execution_count": 48,
      "outputs": []
    },
    {
      "cell_type": "code",
      "source": [
        "import pandas as pd"
      ],
      "metadata": {
        "id": "GAhnTEWnsfYy"
      },
      "execution_count": 49,
      "outputs": []
    },
    {
      "cell_type": "code",
      "source": [
        "# load the medication data\n",
        "medication = pd.read_excel('medication_data.xlsx', sheet_name = \"Diabetes\")\n",
        "patient = pd.read_excel('medication_data.xlsx', sheet_name = 'Patients')\n",
        "medication.head()"
      ],
      "metadata": {
        "colab": {
          "base_uri": "https://localhost:8080/",
          "height": 201
        },
        "id": "S1R_4MPIsmKW",
        "outputId": "9b7545b9-30c0-4949-8f1d-9049e6ab156b"
      },
      "execution_count": 50,
      "outputs": [
        {
          "output_type": "execute_result",
          "data": {
            "text/plain": [
              "                       Drug Generic Product Name  Copay  A1C Reduction  \\\n",
              "0                                  ACARBOSE TAB       5          0.005   \n",
              "1                    BROMOCRIPTINE MESYLATE TAB      50          0.005   \n",
              "2  DAPAGLIFLOZIN PROP-METFORMIN HCL TAB ER 24HR      35          0.020   \n",
              "3                 DAPAGLIFLOZIN PROPANEDIOL TAB      35          0.020   \n",
              "4                 DULAGLUTIDE SOLN PEN-INJECTOR      35          0.015   \n",
              "\n",
              "  Ok to use in pregnancy  use_for_pregnancy  \n",
              "0                    No                   0  \n",
              "1                    No                   0  \n",
              "2                    No                   0  \n",
              "3                    No                   0  \n",
              "4                    No                   0  "
            ],
            "text/html": [
              "\n",
              "  <div id=\"df-fbed93a3-0c6f-4fcf-a697-31588350c3d8\" class=\"colab-df-container\">\n",
              "    <div>\n",
              "<style scoped>\n",
              "    .dataframe tbody tr th:only-of-type {\n",
              "        vertical-align: middle;\n",
              "    }\n",
              "\n",
              "    .dataframe tbody tr th {\n",
              "        vertical-align: top;\n",
              "    }\n",
              "\n",
              "    .dataframe thead th {\n",
              "        text-align: right;\n",
              "    }\n",
              "</style>\n",
              "<table border=\"1\" class=\"dataframe\">\n",
              "  <thead>\n",
              "    <tr style=\"text-align: right;\">\n",
              "      <th></th>\n",
              "      <th>Drug Generic Product Name</th>\n",
              "      <th>Copay</th>\n",
              "      <th>A1C Reduction</th>\n",
              "      <th>Ok to use in pregnancy</th>\n",
              "      <th>use_for_pregnancy</th>\n",
              "    </tr>\n",
              "  </thead>\n",
              "  <tbody>\n",
              "    <tr>\n",
              "      <th>0</th>\n",
              "      <td>ACARBOSE TAB</td>\n",
              "      <td>5</td>\n",
              "      <td>0.005</td>\n",
              "      <td>No</td>\n",
              "      <td>0</td>\n",
              "    </tr>\n",
              "    <tr>\n",
              "      <th>1</th>\n",
              "      <td>BROMOCRIPTINE MESYLATE TAB</td>\n",
              "      <td>50</td>\n",
              "      <td>0.005</td>\n",
              "      <td>No</td>\n",
              "      <td>0</td>\n",
              "    </tr>\n",
              "    <tr>\n",
              "      <th>2</th>\n",
              "      <td>DAPAGLIFLOZIN PROP-METFORMIN HCL TAB ER 24HR</td>\n",
              "      <td>35</td>\n",
              "      <td>0.020</td>\n",
              "      <td>No</td>\n",
              "      <td>0</td>\n",
              "    </tr>\n",
              "    <tr>\n",
              "      <th>3</th>\n",
              "      <td>DAPAGLIFLOZIN PROPANEDIOL TAB</td>\n",
              "      <td>35</td>\n",
              "      <td>0.020</td>\n",
              "      <td>No</td>\n",
              "      <td>0</td>\n",
              "    </tr>\n",
              "    <tr>\n",
              "      <th>4</th>\n",
              "      <td>DULAGLUTIDE SOLN PEN-INJECTOR</td>\n",
              "      <td>35</td>\n",
              "      <td>0.015</td>\n",
              "      <td>No</td>\n",
              "      <td>0</td>\n",
              "    </tr>\n",
              "  </tbody>\n",
              "</table>\n",
              "</div>\n",
              "    <div class=\"colab-df-buttons\">\n",
              "\n",
              "  <div class=\"colab-df-container\">\n",
              "    <button class=\"colab-df-convert\" onclick=\"convertToInteractive('df-fbed93a3-0c6f-4fcf-a697-31588350c3d8')\"\n",
              "            title=\"Convert this dataframe to an interactive table.\"\n",
              "            style=\"display:none;\">\n",
              "\n",
              "  <svg xmlns=\"http://www.w3.org/2000/svg\" height=\"24px\" viewBox=\"0 -960 960 960\">\n",
              "    <path d=\"M120-120v-720h720v720H120Zm60-500h600v-160H180v160Zm220 220h160v-160H400v160Zm0 220h160v-160H400v160ZM180-400h160v-160H180v160Zm440 0h160v-160H620v160ZM180-180h160v-160H180v160Zm440 0h160v-160H620v160Z\"/>\n",
              "  </svg>\n",
              "    </button>\n",
              "\n",
              "  <style>\n",
              "    .colab-df-container {\n",
              "      display:flex;\n",
              "      gap: 12px;\n",
              "    }\n",
              "\n",
              "    .colab-df-convert {\n",
              "      background-color: #E8F0FE;\n",
              "      border: none;\n",
              "      border-radius: 50%;\n",
              "      cursor: pointer;\n",
              "      display: none;\n",
              "      fill: #1967D2;\n",
              "      height: 32px;\n",
              "      padding: 0 0 0 0;\n",
              "      width: 32px;\n",
              "    }\n",
              "\n",
              "    .colab-df-convert:hover {\n",
              "      background-color: #E2EBFA;\n",
              "      box-shadow: 0px 1px 2px rgba(60, 64, 67, 0.3), 0px 1px 3px 1px rgba(60, 64, 67, 0.15);\n",
              "      fill: #174EA6;\n",
              "    }\n",
              "\n",
              "    .colab-df-buttons div {\n",
              "      margin-bottom: 4px;\n",
              "    }\n",
              "\n",
              "    [theme=dark] .colab-df-convert {\n",
              "      background-color: #3B4455;\n",
              "      fill: #D2E3FC;\n",
              "    }\n",
              "\n",
              "    [theme=dark] .colab-df-convert:hover {\n",
              "      background-color: #434B5C;\n",
              "      box-shadow: 0px 1px 3px 1px rgba(0, 0, 0, 0.15);\n",
              "      filter: drop-shadow(0px 1px 2px rgba(0, 0, 0, 0.3));\n",
              "      fill: #FFFFFF;\n",
              "    }\n",
              "  </style>\n",
              "\n",
              "    <script>\n",
              "      const buttonEl =\n",
              "        document.querySelector('#df-fbed93a3-0c6f-4fcf-a697-31588350c3d8 button.colab-df-convert');\n",
              "      buttonEl.style.display =\n",
              "        google.colab.kernel.accessAllowed ? 'block' : 'none';\n",
              "\n",
              "      async function convertToInteractive(key) {\n",
              "        const element = document.querySelector('#df-fbed93a3-0c6f-4fcf-a697-31588350c3d8');\n",
              "        const dataTable =\n",
              "          await google.colab.kernel.invokeFunction('convertToInteractive',\n",
              "                                                    [key], {});\n",
              "        if (!dataTable) return;\n",
              "\n",
              "        const docLinkHtml = 'Like what you see? Visit the ' +\n",
              "          '<a target=\"_blank\" href=https://colab.research.google.com/notebooks/data_table.ipynb>data table notebook</a>'\n",
              "          + ' to learn more about interactive tables.';\n",
              "        element.innerHTML = '';\n",
              "        dataTable['output_type'] = 'display_data';\n",
              "        await google.colab.output.renderOutput(dataTable, element);\n",
              "        const docLink = document.createElement('div');\n",
              "        docLink.innerHTML = docLinkHtml;\n",
              "        element.appendChild(docLink);\n",
              "      }\n",
              "    </script>\n",
              "  </div>\n",
              "\n",
              "\n",
              "<div id=\"df-d79958ca-53d9-4f4b-9c2a-fce87c57df90\">\n",
              "  <button class=\"colab-df-quickchart\" onclick=\"quickchart('df-d79958ca-53d9-4f4b-9c2a-fce87c57df90')\"\n",
              "            title=\"Suggest charts\"\n",
              "            style=\"display:none;\">\n",
              "\n",
              "<svg xmlns=\"http://www.w3.org/2000/svg\" height=\"24px\"viewBox=\"0 0 24 24\"\n",
              "     width=\"24px\">\n",
              "    <g>\n",
              "        <path d=\"M19 3H5c-1.1 0-2 .9-2 2v14c0 1.1.9 2 2 2h14c1.1 0 2-.9 2-2V5c0-1.1-.9-2-2-2zM9 17H7v-7h2v7zm4 0h-2V7h2v10zm4 0h-2v-4h2v4z\"/>\n",
              "    </g>\n",
              "</svg>\n",
              "  </button>\n",
              "\n",
              "<style>\n",
              "  .colab-df-quickchart {\n",
              "      --bg-color: #E8F0FE;\n",
              "      --fill-color: #1967D2;\n",
              "      --hover-bg-color: #E2EBFA;\n",
              "      --hover-fill-color: #174EA6;\n",
              "      --disabled-fill-color: #AAA;\n",
              "      --disabled-bg-color: #DDD;\n",
              "  }\n",
              "\n",
              "  [theme=dark] .colab-df-quickchart {\n",
              "      --bg-color: #3B4455;\n",
              "      --fill-color: #D2E3FC;\n",
              "      --hover-bg-color: #434B5C;\n",
              "      --hover-fill-color: #FFFFFF;\n",
              "      --disabled-bg-color: #3B4455;\n",
              "      --disabled-fill-color: #666;\n",
              "  }\n",
              "\n",
              "  .colab-df-quickchart {\n",
              "    background-color: var(--bg-color);\n",
              "    border: none;\n",
              "    border-radius: 50%;\n",
              "    cursor: pointer;\n",
              "    display: none;\n",
              "    fill: var(--fill-color);\n",
              "    height: 32px;\n",
              "    padding: 0;\n",
              "    width: 32px;\n",
              "  }\n",
              "\n",
              "  .colab-df-quickchart:hover {\n",
              "    background-color: var(--hover-bg-color);\n",
              "    box-shadow: 0 1px 2px rgba(60, 64, 67, 0.3), 0 1px 3px 1px rgba(60, 64, 67, 0.15);\n",
              "    fill: var(--button-hover-fill-color);\n",
              "  }\n",
              "\n",
              "  .colab-df-quickchart-complete:disabled,\n",
              "  .colab-df-quickchart-complete:disabled:hover {\n",
              "    background-color: var(--disabled-bg-color);\n",
              "    fill: var(--disabled-fill-color);\n",
              "    box-shadow: none;\n",
              "  }\n",
              "\n",
              "  .colab-df-spinner {\n",
              "    border: 2px solid var(--fill-color);\n",
              "    border-color: transparent;\n",
              "    border-bottom-color: var(--fill-color);\n",
              "    animation:\n",
              "      spin 1s steps(1) infinite;\n",
              "  }\n",
              "\n",
              "  @keyframes spin {\n",
              "    0% {\n",
              "      border-color: transparent;\n",
              "      border-bottom-color: var(--fill-color);\n",
              "      border-left-color: var(--fill-color);\n",
              "    }\n",
              "    20% {\n",
              "      border-color: transparent;\n",
              "      border-left-color: var(--fill-color);\n",
              "      border-top-color: var(--fill-color);\n",
              "    }\n",
              "    30% {\n",
              "      border-color: transparent;\n",
              "      border-left-color: var(--fill-color);\n",
              "      border-top-color: var(--fill-color);\n",
              "      border-right-color: var(--fill-color);\n",
              "    }\n",
              "    40% {\n",
              "      border-color: transparent;\n",
              "      border-right-color: var(--fill-color);\n",
              "      border-top-color: var(--fill-color);\n",
              "    }\n",
              "    60% {\n",
              "      border-color: transparent;\n",
              "      border-right-color: var(--fill-color);\n",
              "    }\n",
              "    80% {\n",
              "      border-color: transparent;\n",
              "      border-right-color: var(--fill-color);\n",
              "      border-bottom-color: var(--fill-color);\n",
              "    }\n",
              "    90% {\n",
              "      border-color: transparent;\n",
              "      border-bottom-color: var(--fill-color);\n",
              "    }\n",
              "  }\n",
              "</style>\n",
              "\n",
              "  <script>\n",
              "    async function quickchart(key) {\n",
              "      const quickchartButtonEl =\n",
              "        document.querySelector('#' + key + ' button');\n",
              "      quickchartButtonEl.disabled = true;  // To prevent multiple clicks.\n",
              "      quickchartButtonEl.classList.add('colab-df-spinner');\n",
              "      try {\n",
              "        const charts = await google.colab.kernel.invokeFunction(\n",
              "            'suggestCharts', [key], {});\n",
              "      } catch (error) {\n",
              "        console.error('Error during call to suggestCharts:', error);\n",
              "      }\n",
              "      quickchartButtonEl.classList.remove('colab-df-spinner');\n",
              "      quickchartButtonEl.classList.add('colab-df-quickchart-complete');\n",
              "    }\n",
              "    (() => {\n",
              "      let quickchartButtonEl =\n",
              "        document.querySelector('#df-d79958ca-53d9-4f4b-9c2a-fce87c57df90 button');\n",
              "      quickchartButtonEl.style.display =\n",
              "        google.colab.kernel.accessAllowed ? 'block' : 'none';\n",
              "    })();\n",
              "  </script>\n",
              "</div>\n",
              "    </div>\n",
              "  </div>\n"
            ]
          },
          "metadata": {},
          "execution_count": 50
        }
      ]
    },
    {
      "cell_type": "code",
      "source": [
        "# extract price and A1C reduction information from medication data\n",
        "price = medication['Copay'].tolist()\n",
        "A1C_reduction = medication['A1C Reduction'].tolist()\n",
        "use_for_pregnancy = medication['use_for_pregnancy']"
      ],
      "metadata": {
        "id": "0z8amQYEtqGv"
      },
      "execution_count": 51,
      "outputs": []
    },
    {
      "cell_type": "code",
      "source": [
        "# extract patient information\n",
        "current_A1C = patient['Current A1C Level'].tolist()\n",
        "pregnancy = patient['Pregnant'].tolist()"
      ],
      "metadata": {
        "id": "MztixfUfvu1d"
      },
      "execution_count": 52,
      "outputs": []
    },
    {
      "cell_type": "code",
      "source": [
        "# extract medication name\n",
        "medication_name = medication['Drug Generic Product Name'].tolist()"
      ],
      "metadata": {
        "id": "uXN9oLIO1Cdu"
      },
      "execution_count": 53,
      "outputs": []
    },
    {
      "cell_type": "code",
      "source": [
        "# wrap pyomo code into the MedicationPlan function\n",
        "def MedicationPlan():\n",
        "\n",
        "  optimal_a1c = 0.07 # we need to ensure the A1C level below 7%\n",
        "  minimal_a1c = 0.04 # post-treatment a1c level no less than 4%\n",
        "  num_medication = len(medication) # we have 38 medication options in the dataset # i\n",
        "  max_num_medication = 3 # each patient can be treated by at most 3 medications\n",
        "\n",
        "# set model\n",
        "  model = ConcreteModel()\n",
        "# set DVs\n",
        "  model.x = Var(range(num_medication), within = Binary)\n",
        "# set objective variable\n",
        "  model.obj= Objective(expr = sum(price[i] * model.x[i] for i in range(num_medication)), sense=minimize)\n",
        "# set constraints\n",
        "# Constraint 1: control the A1C level of each patient under 7%\n",
        "  model.c1 = Constraint(expr = current_A1C - sum(A1C_reduction[i] * model.x[i] for i in range(num_medication)) <= optimal_a1c)\n",
        "# Constraint 2: each patient can be treated at most three medications in case of hypoglycemia risk\n",
        "  model.c2 = Constraint(expr = sum(model.x[i] for i in range(num_medication))<= max_num_medication)\n",
        "# Constraint 3: post-treatment A1c level higher than 4%\n",
        "  model.c3 = Constraint(expr = current_A1C - sum(A1C_reduction[i] * model.x[i] for i in range(num_medication)) >= minimal_a1c)\n",
        "# Constraint 4: pregnant patient can only be treated with specific medication\n",
        "  def pregnancy_constraint_rule(model):\n",
        "    sum_1 = sum(model.x[i] for i in range(num_medication) if pregnancy == 1 and use_for_pregnancy[i] == 1)\n",
        "    sum_2 = sum(model.x[i] for i in range(num_medication) if pregnancy == 1)\n",
        "    return sum_1 - sum_2 >= 0\n",
        "\n",
        "  opt = SolverFactory('cbc')\n",
        "  opt.solve(model)\n",
        "\n",
        "  objective = model.obj()\n",
        "  medication_plan_matrix = [medication_name[i] for i in range(num_medication) if model.x[i]() > 0]\n",
        "  return objective, medication_plan_matrix\n"
      ],
      "metadata": {
        "id": "K681WmeeJJCS"
      },
      "execution_count": 83,
      "outputs": []
    },
    {
      "cell_type": "code",
      "source": [
        "# use MedicationPlan function to find solution for patient k\n",
        "k=2 # use k to index rows in patients data\n",
        "rowdata = patient.iloc[k,1:].values.tolist()\n",
        "current_A1C = rowdata[0] # extract the current A1C value of patient k\n",
        "pregnancy = rowdata[2] # extract the pregnancy information about patients\n",
        "MedicationPlan()\n",
        "\n"
      ],
      "metadata": {
        "id": "WT7yhMOUOkpS",
        "colab": {
          "base_uri": "https://localhost:8080/"
        },
        "outputId": "52f3bf1b-9f0d-41c7-e439-977170bfa3bd"
      },
      "execution_count": 85,
      "outputs": [
        {
          "output_type": "execute_result",
          "data": {
            "text/plain": [
              "(5.0, ['GLIPIZIDE-METFORMIN HCL TAB '])"
            ]
          },
          "metadata": {},
          "execution_count": 85
        }
      ]
    },
    {
      "cell_type": "code",
      "source": [
        "#loop\n",
        "outputs = []\n",
        "for i in range(len(patient)):\n",
        "  rowdata = patient.iloc[i,1:].values.tolist()\n",
        "  current_A1C = rowdata[0]\n",
        "  outputs.append(MedicationPlan())\n",
        "patient['solution'] = outputs"
      ],
      "metadata": {
        "id": "oymQ_r49TsCe",
        "colab": {
          "base_uri": "https://localhost:8080/"
        },
        "outputId": "4d44bed2-594d-498e-83fd-988562c4a5ae"
      },
      "execution_count": 56,
      "outputs": [
        {
          "output_type": "stream",
          "name": "stderr",
          "text": [
            "WARNING:pyomo.core:Loading a SolverResults object with a warning status into model.name=\"unknown\";\n",
            "  - termination condition: infeasible\n",
            "  - message from solver: <undefined>\n"
          ]
        }
      ]
    },
    {
      "cell_type": "code",
      "source": [
        "print(patient)"
      ],
      "metadata": {
        "colab": {
          "base_uri": "https://localhost:8080/"
        },
        "id": "eU-mt73SUtlD",
        "outputId": "c7edcfc4-c187-4148-d1de-1578526e8816"
      },
      "execution_count": 57,
      "outputs": [
        {
          "output_type": "stream",
          "name": "stdout",
          "text": [
            "   Patient  Current A1C Level Gender   Pregnant  \\\n",
            "0        1              0.135       M         0   \n",
            "1        2              0.085       F         1   \n",
            "2        3              0.090       F         0   \n",
            "3        4              0.102       M         0   \n",
            "4        5              0.112       M         0   \n",
            "5        6              0.129       M         0   \n",
            "\n",
            "                                            solution  \n",
            "0  (35.0, [INSULIN GLARGINE-LIXISENATIDE SOL PEN-...  \n",
            "1                  (5.0, [GLYBURIDE-METFORMIN TAB ])  \n",
            "2                  (5.0, [GLYBURIDE-METFORMIN TAB ])  \n",
            "3  (15.0, [GLYBURIDE-METFORMIN TAB , METFORMIN HC...  \n",
            "4                                            (0, [])  \n",
            "5  (35.0, [INSULIN GLARGINE-LIXISENATIDE SOL PEN-...  \n"
          ]
        }
      ]
    },
    {
      "cell_type": "code",
      "source": [
        "from google.colab import drive\n",
        "drive.mount('/content/drive')"
      ],
      "metadata": {
        "colab": {
          "base_uri": "https://localhost:8080/"
        },
        "id": "84dNthXU1VU9",
        "outputId": "32bf42d7-52f1-4bce-8dee-013a6fed9d5d"
      },
      "execution_count": 47,
      "outputs": [
        {
          "output_type": "stream",
          "name": "stdout",
          "text": [
            "Mounted at /content/drive\n"
          ]
        }
      ]
    },
    {
      "cell_type": "code",
      "source": [
        "patient.to_csv('/content/drive/MyDrive/solution.csv', index = False)"
      ],
      "metadata": {
        "id": "rbWhYyDc1mkb"
      },
      "execution_count": null,
      "outputs": []
    }
  ]
}